{
 "cells": [
  {
   "cell_type": "markdown",
   "id": "ca40022f-30ad-45cc-8666-f72248cd013a",
   "metadata": {},
   "source": [
    "**Annotating the 0|1 genotype according to the reference and alternative allele to get annotated genotypes like A|T**"
   ]
  },
  {
   "cell_type": "code",
   "execution_count": null,
   "id": "e1a6c696-0870-4098-bfb3-90123b9aa898",
   "metadata": {},
   "outputs": [],
   "source": [
    "import pandas as pd\n",
    "import re\n",
    "data = pd.read_csv(\"/hpc/dla_lti/araja/hapsnew/ERAP2/ERAP2_Full_new_March23_final.csv\")\n",
    "def convert_snp(var_row):\n",
    "    ref = var_row['REF']\n",
    "    alt = var_row['ALT']\n",
    "    alt = re.sub(\",[AGTC]+\", \"\", alt)\n",
    "    var_row[var_row == '0|0'] = ref + '|' + ref\n",
    "    var_row[var_row == '0|1'] = ref + '|' + alt\n",
    "    var_row[var_row == '1|1'] = alt + '|' + alt\n",
    "    var_row[var_row == '1|0'] = alt + '|' + ref\n",
    "    var_row = var_row.str.replace(\" \", \"\")\n",
    "    return var_row\n",
    "annotated_data = data.apply(convert_snp, axis=1)\n",
    "annotated_data.to_csv(\"ERAP2_gt_anno_March1.csv\", index=False)"
   ]
  }
 ],
 "metadata": {
  "kernelspec": {
   "display_name": "Python 3 (ipykernel)",
   "language": "python",
   "name": "python3"
  },
  "language_info": {
   "codemirror_mode": {
    "name": "ipython",
    "version": 3
   },
   "file_extension": ".py",
   "mimetype": "text/x-python",
   "name": "python",
   "nbconvert_exporter": "python",
   "pygments_lexer": "ipython3",
   "version": "3.11.7"
  }
 },
 "nbformat": 4,
 "nbformat_minor": 5
}
