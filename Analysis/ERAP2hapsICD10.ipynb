{
 "cells": [
  {
   "cell_type": "code",
   "execution_count": null,
   "id": "66bb3c3a-cee7-4803-b9dd-4c60762e74f6",
   "metadata": {},
   "outputs": [],
   "source": [
    "import pandas as pd\n",
    "import numpy as np\n",
    "import statsmodels.api as sm\n",
    "from statsmodels.stats.multitest import multipletests"
   ]
  },
  {
   "cell_type": "code",
   "execution_count": 5,
   "id": "69561fac-faab-460b-bf64-80e9c7590d8e",
   "metadata": {},
   "outputs": [],
   "source": [
    "data = pd.read_csv('/hpc/dla_lti/araja/hapsnew/ERAP2/ERAP2haploCLinicalmerged.csv')\n",
    "data = data.loc[:, (data != 0).any(axis=0)]"
   ]
  },
  {
   "cell_type": "code",
   "execution_count": 7,
   "id": "1a31edb1-0a75-4024-9ee8-912801f6a5a9",
   "metadata": {},
   "outputs": [
    {
     "data": {
      "text/plain": [
       "VTE\n",
       "0    321100\n",
       "1     12880\n",
       "Name: count, dtype: int64"
      ]
     },
     "execution_count": 7,
     "metadata": {},
     "output_type": "execute_result"
    }
   ],
   "source": [
    "data['VTE'].value_counts()\n"
   ]
  },
  {
   "cell_type": "code",
   "execution_count": 9,
   "id": "74f31397-8ed3-4063-b47a-aba30a084ac4",
   "metadata": {},
   "outputs": [
    {
     "data": {
      "text/html": [
       "<div>\n",
       "<style scoped>\n",
       "    .dataframe tbody tr th:only-of-type {\n",
       "        vertical-align: middle;\n",
       "    }\n",
       "\n",
       "    .dataframe tbody tr th {\n",
       "        vertical-align: top;\n",
       "    }\n",
       "\n",
       "    .dataframe thead th {\n",
       "        text-align: right;\n",
       "    }\n",
       "</style>\n",
       "<table border=\"1\" class=\"dataframe\">\n",
       "  <thead>\n",
       "    <tr style=\"text-align: right;\">\n",
       "      <th></th>\n",
       "      <th>Column Name</th>\n",
       "      <th>Cases (1 count)</th>\n",
       "    </tr>\n",
       "  </thead>\n",
       "  <tbody>\n",
       "    <tr>\n",
       "      <th>0</th>\n",
       "      <td>Sex.0.0</td>\n",
       "      <td>150778</td>\n",
       "    </tr>\n",
       "    <tr>\n",
       "      <th>1</th>\n",
       "      <td>Age</td>\n",
       "      <td>256340</td>\n",
       "    </tr>\n",
       "    <tr>\n",
       "      <th>2</th>\n",
       "      <td>CHD10intermediate</td>\n",
       "      <td>22364</td>\n",
       "    </tr>\n",
       "    <tr>\n",
       "      <th>3</th>\n",
       "      <td>CHD10hard</td>\n",
       "      <td>9322</td>\n",
       "    </tr>\n",
       "    <tr>\n",
       "      <th>4</th>\n",
       "      <td>CHD9intermediate</td>\n",
       "      <td>114</td>\n",
       "    </tr>\n",
       "    <tr>\n",
       "      <th>...</th>\n",
       "      <td>...</td>\n",
       "      <td>...</td>\n",
       "    </tr>\n",
       "    <tr>\n",
       "      <th>374</th>\n",
       "      <td>PH96</td>\n",
       "      <td>30</td>\n",
       "    </tr>\n",
       "    <tr>\n",
       "      <th>375</th>\n",
       "      <td>PH97</td>\n",
       "      <td>1836</td>\n",
       "    </tr>\n",
       "    <tr>\n",
       "      <th>376</th>\n",
       "      <td>PH98</td>\n",
       "      <td>444</td>\n",
       "    </tr>\n",
       "    <tr>\n",
       "      <th>377</th>\n",
       "      <td>PH99</td>\n",
       "      <td>550</td>\n",
       "    </tr>\n",
       "    <tr>\n",
       "      <th>378</th>\n",
       "      <td>HFfull</td>\n",
       "      <td>5526</td>\n",
       "    </tr>\n",
       "  </tbody>\n",
       "</table>\n",
       "<p>379 rows × 2 columns</p>\n",
       "</div>"
      ],
      "text/plain": [
       "           Column Name  Cases (1 count)\n",
       "0              Sex.0.0           150778\n",
       "1                  Age           256340\n",
       "2    CHD10intermediate            22364\n",
       "3            CHD10hard             9322\n",
       "4     CHD9intermediate              114\n",
       "..                 ...              ...\n",
       "374               PH96               30\n",
       "375               PH97             1836\n",
       "376               PH98              444\n",
       "377               PH99              550\n",
       "378             HFfull             5526\n",
       "\n",
       "[379 rows x 2 columns]"
      ]
     },
     "execution_count": 9,
     "metadata": {},
     "output_type": "execute_result"
    }
   ],
   "source": [
    "selected_columns = data.columns[28:]\n",
    "counts = {\"Column Name\": [], \"Cases (1 count)\": []}\n",
    "for col in selected_columns:\n",
    "    counts[\"Column Name\"].append(col)\n",
    "    counts[\"Cases (1 count)\"].append((data[col] == 1).sum())  \n",
    "count_table = pd.DataFrame(counts)\n",
    "count_table"
   ]
  },
  {
   "cell_type": "code",
   "execution_count": null,
   "id": "69608d6a-755e-4164-8c2d-6b4c9c0fe51c",
   "metadata": {},
   "outputs": [],
   "source": [
    "data=data.rename(columns={\"Sex.0.0\": \"Sex\"})"
   ]
  },
  {
   "cell_type": "code",
   "execution_count": null,
   "id": "a101a985-e5b1-4948-9a0d-86956faff378",
   "metadata": {},
   "outputs": [],
   "source": [
    "####Running logistic regression to find associations of haps with phentoypes####\n",
    "haplotype_columns = data.columns[1:28]\n",
    "clinical_feature_columns = data.columns[28:]\n",
    "\n",
    "X_covariates = sm.add_constant(data[['Sex', 'Age']])\n",
    "with open('ERAP2hapsClinical.csv', 'a') as f:\n",
    "    for haplotype in haplotype_columns:\n",
    "        y = data[haplotype]\n",
    "        for clinical_feature in clinical_feature_columns:\n",
    "            X = X_covariates.copy()\n",
    "            X[clinical_feature] = data[clinical_feature]\n",
    "            try:\n",
    "                result = sm.Logit(y, X).fit(method='bfgs', maxiter=1000)\n",
    "            except:\n",
    "                try:\n",
    "                    result = sm.Logit(y, X).fit(method='newton', maxiter=1000)\n",
    "                except Exception as e:\n",
    "                    print(f\"Error occurred for haplotype {haplotype}, clinical feature {clinical_feature}: {e}\")\n",
    "                    continue\n",
    "\n",
    "            estimates = result.params[1:]\n",
    "            conf_int = result.conf_int().iloc[1:]\n",
    "            odds_ratios = np.exp(estimates)\n",
    "            p_values = result.pvalues[1:]\n",
    "            corrected_p_values = multipletests(p_values, method='fdr_bh')[1] #Corrected using Benjamini–Hochberg\n",
    "            for feature, estimate, conf_interval, p_value, odds_ratio, corrected_p_value in zip(X.columns[1:], estimates, conf_int.values, p_values, odds_ratios, corrected_p_values):\n",
    "                ci_low, ci_high = np.exp(conf_interval)  \n",
    "                z_value = estimate / result.bse[feature]\n",
    "                p_adjusted = corrected_p_value\n",
    "                result_row = pd.DataFrame({'haplotype': [haplotype],\n",
    "                                            'clinical_feature': [feature],\n",
    "                                            'estimate': [estimate],\n",
    "                                            'std_error': [result.bse[feature]],\n",
    "                                            'z_value': [z_value],\n",
    "                                            'p_value': [p_value],\n",
    "                                            'odds_ratio': [odds_ratio],\n",
    "                                            'ci_low': [ci_low],\n",
    "                                            'ci_high': [ci_high],\n",
    "                                            'p_adjusted': [p_adjusted]})\n",
    "                result_row.to_csv(f, header=False, index=False)"
   ]
  },
  {
   "cell_type": "code",
   "execution_count": null,
   "id": "19eba511-795c-4c7d-8fba-54420b5f61aa",
   "metadata": {},
   "outputs": [],
   "source": [
    "###Annotating ICD10 ids and calculating case vs control frequency####\n",
    "significant_results = pd.read_csv(\"/hpc/dla_lti/araja/hapsnew/ERAP2/ERAP2hapsClinical.csv\")\n",
    "icd = pd.read_csv(\"/hpc/dla_lti/araja/hapsnew/ERAP2/ICD_dis_name.csv\")\n",
    "merged = significant_results.merge(icd, how='left', left_on='clinical_feature', right_on='term')\n",
    "merged = merged[~merged['Clinical_outcome_name'].isna()]\n",
    "merged['Clinical_outcome_name'] = merged['Clinical_outcome_name'].replace(\"#N/A\", np.nan)\n",
    "merged = merged[~merged['Clinical_outcome_name'].isna()]\n",
    "merged = merged.drop_duplicates() #Keeping first instance by default\n",
    "significant_results['haplo_cases'] = np.nan\n",
    "significant_results['haplo_controls'] = np.nan\n",
    "significant_results['total_cases'] = np.nan\n",
    "significant_results['total_controls'] = np.nan\n",
    "for i, row in significant_results.iterrows():\n",
    "    haplo_col = row['haplotype']\n",
    "    clinical_col = row['clinical_feature']\n",
    "    if haplo_col in data.columns and clinical_col in data.columns:\n",
    "        haplo_cases = ((data[haplo_col] == 1) & \n",
    "                       (data[clinical_col] == 1)).sum()\n",
    "        haplo_controls = ((data[haplo_col] == 1) & \n",
    "                          (data[clinical_col] == 0)).sum()\n",
    "        total_cases = (data[clinical_col] == 1).sum()\n",
    "        total_controls = (data[clinical_col] == 0).sum()\n",
    "        significant_results.at[i, 'haplo_cases'] = haplo_cases\n",
    "        significant_results.at[i, 'haplo_controls'] = haplo_controls\n",
    "        significant_results.at[i, 'total_cases'] = total_cases\n",
    "        significant_results.at[i, 'total_controls'] = total_controls\n",
    "significant_results['freq_case'] = significant_results['haplo_cases'] / significant_results['total_cases']\n",
    "significant_results['freq_control'] = significant_results['haplo_controls'] / significant_results['total_controls']\n",
    "significant_results.csv(\"Final-ERAP2hapsClinical.csv\", sep=\",\")"
   ]
  }
 ],
 "metadata": {
  "kernelspec": {
   "display_name": "Python 3 (ipykernel)",
   "language": "python",
   "name": "python3"
  },
  "language_info": {
   "codemirror_mode": {
    "name": "ipython",
    "version": 3
   },
   "file_extension": ".py",
   "mimetype": "text/x-python",
   "name": "python",
   "nbconvert_exporter": "python",
   "pygments_lexer": "ipython3",
   "version": "3.11.7"
  }
 },
 "nbformat": 4,
 "nbformat_minor": 5
}
