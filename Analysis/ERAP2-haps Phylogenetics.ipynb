{
 "cells": [
  {
   "cell_type": "code",
   "execution_count": null,
   "id": "4fc17e72-5e3b-42dc-ba01-0dd611e11836",
   "metadata": {},
   "outputs": [],
   "source": [
    "import os\n",
    "from Bio import AlignIO\n",
    "from Bio.Seq import Seq \n",
    "from Bio import SeqIO\n",
    "from Bio.Align import MultipleSeqAlignment\n",
    "from Bio.Align.Applications import ClustalOmegaCommandline\n",
    "from Bio.Align.Applications import ClustalwCommandline\n",
    "f=\"ERAP2allotype_withSplicedJulyNewNames1.fa\"\n",
    "records = []\n",
    "for record in SeqIO.parse(f, format='fasta'):\n",
    "    records.append(record)"
   ]
  },
  {
   "cell_type": "code",
   "execution_count": null,
   "id": "ee149548-e549-41cb-8a2e-f21680d25ff0",
   "metadata": {},
   "outputs": [],
   "source": [
    "input_file = \"ERAP2allotype_withSplicedJulyNewNames1.fasta\"\n",
    "output_file = \"ERAP2allotype_withSplicedJulyNewNames1.aln\"\n",
    "#Running ClustalW2 for multiple sequence alignment\n",
    "clustalw_cline = ClustalwCommandline(\"clustalw2\", infile=input_file, outfile=output_file)\n",
    "stdout, stderr = clustalw_cline()"
   ]
  },
  {
   "cell_type": "code",
   "execution_count": null,
   "id": "a6a0b994-b64d-4179-9f99-f2e7f6de1d39",
   "metadata": {},
   "outputs": [],
   "source": [
    "from skbio import TabularMSA, Protein\n",
    "from skbio import DistanceMatrix\n",
    "from skbio.sequence.distance import hamming\n",
    "from skbio.tree import nj\n",
    "import ete3\n",
    "from ete3 import Tree\n",
    "msa = TabularMSA.read('ERAP2allotype_withSplicedJulyNewNames1.fasta', constructor=Protein)\n",
    "msa.reassign_index(minter='id')\n",
    "dm = DistanceMatrix.from_iterable(msa, metric=hamming, keys=msa.index)\n",
    "tree = nj(dm)\n",
    "ts = ete3.TreeStyle()\n",
    "ts.show_branch_length = True\n",
    "newick_str = nj(dm, result_constructor=str)\n",
    "t = Tree(newick_str)\n",
    "new_root = tree.find('ERAP2*00*01').ancestors()[0]  #root (ancestral node)\n",
    "rooted_tree = tree.root_at(new_root)\n",
    "t.write(format=1, outfile=\"ERAP2Allotypesete_tree.nw\")"
   ]
  },
  {
   "cell_type": "code",
   "execution_count": null,
   "id": "aeb658fa-bbe2-4fb0-b23c-bd0b048984dc",
   "metadata": {},
   "outputs": [],
   "source": [
    "from ete3 import PhyloTree\n",
    "os.environ['QT_QPA_PLATFORM']='offscreen'\n",
    "%matplotlib inline\n",
    "def attach_sequences_to_tree(tree, alignment):\n",
    "    sequence_dict = {seq.id: seq for seq in alignment}\n",
    "    for leaf in tree:\n",
    "        sequence_id = leaf.name  \n",
    "        if sequence_id in sequence_dict:\n",
    "            leaf.add_features(sequence=sequence_dict[sequence_id])\n",
    "        else:\n",
    "            print(f\"Sequence not found for node {leaf.name}\")\n",
    "if __name__ == \"__main__\":\n",
    "    tree_file = \"ERAP2Allotypesete_tree.nw\" \n",
    "    alignment_file = \"ERAP2allotype_withSplicedJuly.aln\"  \n",
    "    gene_tree = Tree(tree_file)\n",
    "    alignment = AlignIO.read(alignment_file, \"clustal\") \n",
    "    attach_sequences_to_tree(gene_tree, alignment)\n",
    "    ts = TreeStyle()\n",
    "    gene_tree.render('/hpc/dla_lti/araja/hapsnew/ERAP2/ERAP2treeete3PhyloMSAtest1.png', tree_style=ts) #checking msa"
   ]
  },
  {
   "cell_type": "code",
   "execution_count": null,
   "id": "a79f9047-2323-46b4-a53b-f23903732c74",
   "metadata": {},
   "outputs": [],
   "source": [
    "from ete3 import Tree, TreeStyle\n",
    "t = Tree(\"ERAP2Allotypesete_tree.nw\")\n",
    "t.set_outgroup('ERAP2*00*01')\n",
    "os.environ['QT_QPA_PLATFORM']='offscreen'\n",
    "%matplotlib inline\n",
    "ts = ete3.TreeStyle()\n",
    "ts.show_branch_length = True\n",
    "#circular_style = TreeStyle()\n",
    "#circular_style.mode = \"c\" \n",
    "#circular_style.scale = 20\n",
    "#t.render('ERAP2treeete3test.png', w=183, units=\"mm\", tree_style=circular_style)\n",
    "t.render('ERAP2treeete3NewNames1.svg', tree_style=ts)"
   ]
  }
 ],
 "metadata": {
  "kernelspec": {
   "display_name": "Python 3 (ipykernel)",
   "language": "python",
   "name": "python3"
  },
  "language_info": {
   "codemirror_mode": {
    "name": "ipython",
    "version": 3
   },
   "file_extension": ".py",
   "mimetype": "text/x-python",
   "name": "python",
   "nbconvert_exporter": "python",
   "pygments_lexer": "ipython3",
   "version": "3.11.7"
  }
 },
 "nbformat": 4,
 "nbformat_minor": 5
}
